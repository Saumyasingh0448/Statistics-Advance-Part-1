{
  "nbformat": 4,
  "nbformat_minor": 0,
  "metadata": {
    "colab": {
      "provenance": []
    },
    "kernelspec": {
      "name": "python3",
      "display_name": "Python 3"
    },
    "language_info": {
      "name": "python"
    }
  },
  "cells": [
    {
      "cell_type": "markdown",
      "source": [
        "1. What is a random variable in probability theory?\n",
        "- In probability theory, a random variable is a numerical outcome of a random phenomenon.\n",
        "\n",
        "There are two types:\n",
        "Discrete Random Variable\n",
        "\n",
        "Takes specific, countable values (like whole numbers).\n",
        "\n",
        "Example: Rolling a die — possible outcomes are 1, 2, 3, 4, 5, 6.\n",
        "\n",
        "Continuous Random Variable\n",
        "\n",
        "Takes any value within a range (can include decimals).\n",
        "\n",
        "Example: The time it takes to run a race — it could be 12.4, 12.45, or 12.456 seconds.\n",
        "\n",
        "2. What are the types of random variables?\n",
        "- Discrete Random Variable – Takes countable values.\n",
        "Example: Number of students in a class.\n",
        "\n",
        "Continuous Random Variable – Takes any value in a range (uncountable).\n",
        "Example: Height of a person.\n",
        "\n",
        "Mixed Random Variable – Has both discrete and continuous parts.\n",
        "Example: Insurance payout (fixed + variable amounts).\n",
        "\n",
        "3. What is the difference between discrete and continuous distributions?\n",
        "- Difference between Discrete and Continuous Distributions:\n",
        "Discrete Distribution: Deals with countable values.\n",
        "Example: Number of cars in a parking lot.\n",
        "\n",
        "Continuous Distribution: Deals with infinite values within a range.\n",
        "Example: Height of people.\n",
        "\n",
        "4.  What are probability distribution functions (PDF)?\n",
        "-A Probability Distribution Function (PDF) describes how the probability is distributed over the values of a random variable.\n",
        "\n",
        "For discrete variables, it's called a Probability Mass Function (PMF).\n",
        "\n",
        "For continuous variables, it's called a Probability Density Function (PDF).\n",
        "\n",
        "5.  How do cumulative distribution functions (CDF) differ from probability distribution functions (PDF)?\n",
        "- PDF (Probability Density/Mass Function) shows the probability at a specific value (for continuous or discrete variables).\n",
        "\n",
        "CDF (Cumulative Distribution Function) shows the probability up to a certain value (i.e.,\n",
        "𝑃(𝑋≤𝑥)\n",
        "P(X≤x)).\n",
        "\n",
        "6. What is a discrete uniform distribution?\n",
        "- A discrete uniform distribution is where all outcomes are equally likely.\n",
        "\n",
        "Each value has the same probability.\n",
        "\n",
        "Example: Rolling a fair 6-sided die — each number (1 to 6) has a probability of\n",
        "1/6.\n",
        "\n",
        "7. What are the key properties of a Bernoulli distribution?\n",
        "- Key Properties of a Bernoulli Distribution:\n",
        "Two Outcomes: Only 2 possible outcomes — usually 1 (success) and 0 (failure).\n",
        "\n",
        "Single Trial: Represents a single experiment or trial.\n",
        "\n",
        "8. What is the binomial distribution, and how is it used in probability?\n",
        "- A binomial distribution models the number of successes in a fixed number of independent trials, each with the same probability of success.\n",
        "\n",
        "9. What is the Poisson distribution and where is it applied?\n",
        "-The Poisson distribution models the number of events occurring in a fixed interval of time or space, when events happen independently and at a constant average rate\n",
        "𝜆.\n",
        "\n",
        "10. What is a continuous uniform distribution?\n",
        "- A continuous uniform distribution is where all values within a given interval\n",
        "[a,b] are equally likely.\n",
        "\n",
        "11. What are the characteristics of a normal distribution?\n",
        "-Bell-shaped and symmetric\n",
        "\n",
        "Mean = Median = Mode\n",
        "\n",
        "Defined by mean (μ) and standard deviation (σ)\n",
        "\n",
        "12. What is the standard normal distribution, and why is it important?\n",
        "- The standard normal distribution is a normal distribution with:\n",
        "\n",
        "Mean (μ) = 0\n",
        "\n",
        "Standard deviation (σ) = 1\n",
        "\n",
        "13. What is the Central Limit Theorem (CLT), and why is it critical in statistics?\n",
        "- The Central Limit Theorem states that the sampling distribution of the sample mean approaches a normal distribution as the sample size increases, regardless of the population's distribution, if the samples are independent and identically distributed.\n",
        "\n",
        "14. How does the Central Limit Theorem relate to the normal distribution?\n",
        "-The Central Limit Theorem (CLT) explains that, as the sample size increases, the sampling distribution of the sample mean becomes approximately normal, even if the original data is not normally distributed.\n",
        "\n",
        "15. What is the application of Z statistics in hypothesis testing?\n",
        "- Application of Z-Statistic in Hypothesis Testing – Short Answer:\n",
        "The Z-statistic is used in hypothesis testing when:\n",
        "\n",
        "The population standard deviation\n",
        "𝜎\n",
        "σ is known\n",
        "\n",
        "The sample size is large (usuallyn≥30)\n",
        "\n",
        "16. How do you calculate a Z-score, and what does it represent?\n",
        "- ✅ Formula:\n",
        "𝑍\n",
        "=\n",
        "𝑋\n",
        "−\n",
        "𝜇\n",
        "X = data point\n",
        "μ = mean\n",
        "σ = standard deviation\n",
        "\n",
        "17. What are point estimates and interval estimates in statistics?\n",
        "- Point Estimate: A single value that estimates a population parameter.\n",
        "Example: Sample mean x for population mean 𝜇\n",
        "\n",
        "\n",
        "Interval Estimate: A range of values that likely contains the parameter, with a confidence level.\n",
        "Example: 95% confidence interval.\n",
        "\n",
        "18. What is the significance of confidence intervals in statistical analysis?\n",
        "- Confidence intervals show a range of values that likely contains the true population parameter, with a given level of confidence (e.g., 95%).\n",
        "\n",
        "19. What is the relationship between a Z-score and a confidence interval?\n",
        "- •\tThe Z-score determines how far from the mean you go to build the interval.\n",
        "•\tFor example:\n",
        "o\t90% confidence → Z ≈ 1.645\n",
        "o\t95% confidence → Z ≈ 1.96\n",
        "o\t99% confidence → Z ≈ 2.576\n",
        "________________________________________\n",
        "📌 Formula:\n",
        "CI=xˉ±Z(σn)\\text{CI} = \\bar{x} \\pm Z \\left( \\frac{\\sigma}{\\sqrt{n}} \\right)CI=xˉ±Z(nσ)\n",
        "\n",
        "20. How are Z-scores used to compare different distributions?\n",
        "- Z-scores standardize values from different distributions, letting you compare them directly, even if the scales or units are different.\n",
        "________________________________________\n",
        "Z=X−μσZ = \\frac{X - \\mu}{\\sigma}Z=σX−μ\n",
        "•\tConverts data to a standard normal scale (mean = 0, SD = 1)\n",
        "•\tTells how far and in what direction a value is from the mean\n",
        "\n",
        "21. What are the assumptions for applying the Central Limit Theorem?\n",
        "-  Independent Samples: Each observation must be independent of the others.\n",
        "•   Identically Distributed: All samples come from the same population distribution.\n",
        "•   Sample Size:\n",
        "•\tLarge sample size (typically n≥30n \\geq 30n≥30) if population is not normal\n",
        "•\tAny size if population is already normally distributed\n",
        "\n",
        "22.  What is the concept of expected value in a probability distribution?\n",
        "- The expected value is the average outcome you’d expect over many trials of a random experiment.\n",
        "_______________________________________\n",
        "Formula:\n",
        "•\tDiscrete:\n",
        "E(X)=∑x⋅P(x)E(X) = \\sum x \\cdot P(x)E(X)=∑x⋅P(x)\n",
        "•\tContinuous:\n",
        "E(X)=∫x⋅f(x) dxE(X) = \\int x \\cdot f(x) \\, dxE(X)=∫x⋅f(x)dx\n",
        "\n",
        "23. How does a probability distribution relate to the expected outcome of a random variable?\n",
        "- A probability distribution shows how likely each value of a random variable is.\n",
        "\n",
        "The expected outcome is the average value you’d expect, based on those probabilities.\n",
        " So, the expected value is calculated from the probability distribution by weighting each value by its probability.\n"
      ],
      "metadata": {
        "id": "gpmBzYy38i2A"
      }
    },
    {
      "cell_type": "markdown",
      "source": [
        "# **Practical**\n",
        "1. Write a Python program to generate a random variable and display its value?\n"
      ],
      "metadata": {
        "id": "9UGs8DPzDDpv"
      }
    },
    {
      "cell_type": "code",
      "execution_count": null,
      "metadata": {
        "id": "m_JtLN4K8bwH"
      },
      "outputs": [],
      "source": [
        "import random\n",
        "\n",
        "# Generate a random variable (e.g., integer from 1 to 10)\n",
        "random_variable = random.randint(1, 10)\n",
        "\n",
        "# Display the value\n",
        "print(\"Random Variable Value:\", random_variable)\n"
      ]
    },
    {
      "cell_type": "markdown",
      "source": [
        "2. Generate a discrete uniform distribution using Python and plot the probability mass function (PMF)\n"
      ],
      "metadata": {
        "id": "7OHsFYEtDVuw"
      }
    },
    {
      "cell_type": "code",
      "source": [
        "import numpy as np\n",
        "import matplotlib.pyplot as plt\n",
        "\n",
        "# Define values and probabilities for a discrete uniform distribution (e.g., fair die)\n",
        "values = np.arange(1, 7)  # possible outcomes: 1 to 6\n",
        "probabilities = [1/6] * 6  # equal probability for each outcome\n",
        "\n",
        "# Plot PMF\n",
        "plt.stem(values, probabilities, use_line_collection=True)\n",
        "plt.title(\"PMF of Discrete Uniform Distribution (1 to 6)\")\n",
        "plt.xlabel(\"Value\")\n",
        "plt.ylabel(\"Probability\")\n",
        "plt.xticks(values)\n",
        "plt.ylim(0, 0.25)\n",
        "plt.grid(True)\n",
        "plt.show()\n"
      ],
      "metadata": {
        "id": "cPF6yWtvDiPl"
      },
      "execution_count": null,
      "outputs": []
    },
    {
      "cell_type": "markdown",
      "source": [
        "3.  Write a Python function to calculate the probability distribution function (PDF) of a Bernoulli distribution?"
      ],
      "metadata": {
        "id": "LFbPU9qYDkuO"
      }
    },
    {
      "cell_type": "code",
      "source": [
        "def bernoulli_pdf(x, p):\n",
        "    \"\"\"\n",
        "    Calculate the PDF of a Bernoulli distribution.\n",
        "\n",
        "    Parameters:\n",
        "    x (int): 0 or 1 (possible outcomes)\n",
        "    p (float): Probability of success (0 ≤ p ≤ 1)\n",
        "\n",
        "    Returns:\n",
        "    float: Probability of x\n",
        "    \"\"\"\n",
        "    if x not in [0, 1]:\n",
        "        return 0\n",
        "    return (p ** x) * ((1 - p) ** (1 - x))\n",
        "\n",
        "# Example usage\n",
        "print(\"P(X=0):\", bernoulli_pdf(0, 0.7))\n",
        "print(\"P(X=1):\", bernoulli_pdf(1, 0.7))\n"
      ],
      "metadata": {
        "id": "QsGA-TeODuxO"
      },
      "execution_count": null,
      "outputs": []
    },
    {
      "cell_type": "markdown",
      "source": [
        "4.  Write a Python script to simulate a binomial distribution with n=10 and p=0.5, then plot its histogram?"
      ],
      "metadata": {
        "id": "IsEs4IFdDv7a"
      }
    },
    {
      "cell_type": "code",
      "source": [
        "import numpy as np\n",
        "import matplotlib.pyplot as plt\n",
        "\n",
        "# Parameters\n",
        "n = 10       # Number of trials\n",
        "p = 0.5      # Probability of success\n",
        "size = 1000  # Number of simulations\n",
        "\n",
        "# Simulate binomial distribution\n",
        "data = np.random.binomial(n, p, size)\n",
        "\n",
        "# Plot histogram\n",
        "plt.hist(data, bins=np.arange(0, n+2) - 0.5, density=True, edgecolor='black', alpha=0.7)\n",
        "plt.title(f'Binomial Distribution (n={n}, p={p})')\n",
        "plt.xlabel('Number of Successes')\n",
        "plt.ylabel('Probability')\n",
        "plt.xticks(range(n+1))\n",
        "plt.grid(True)\n",
        "plt.show()\n"
      ],
      "metadata": {
        "id": "mbKB5mLcD7fA"
      },
      "execution_count": null,
      "outputs": []
    },
    {
      "cell_type": "markdown",
      "source": [
        "5. Create a Poisson distribution and visualize it using Python?"
      ],
      "metadata": {
        "id": "OuX9oBNVD8mx"
      }
    },
    {
      "cell_type": "code",
      "source": [
        "import numpy as np\n",
        "import matplotlib.pyplot as plt\n",
        "from scipy.stats import poisson\n",
        "\n",
        "# Parameters\n",
        "lambda_val = 4  # average rate (λ)\n",
        "x = np.arange(0, 15)  # possible values (0 to 14)\n",
        "\n",
        "# PMF of the Poisson distribution\n",
        "pmf = poisson.pmf(x, mu=lambda_val)\n",
        "\n",
        "# Plot\n",
        "plt.bar(x, pmf, color='skyblue', edgecolor='black')\n",
        "plt.title(f'Poisson Distribution (λ = {lambda_val})')\n",
        "plt.xlabel('Number of Events (k)')\n",
        "plt.ylabel('Probability P(X = k)')\n",
        "plt.grid(axis='y')\n",
        "plt.show()\n"
      ],
      "metadata": {
        "id": "GSSmWTj7EO3a"
      },
      "execution_count": null,
      "outputs": []
    },
    {
      "cell_type": "markdown",
      "source": [
        "6. Write a Python program to calculate and plot the cumulative distribution function (CDF) of a discrete\n",
        "uniform distribution>"
      ],
      "metadata": {
        "id": "PClfPX4GE93q"
      }
    },
    {
      "cell_type": "code",
      "source": [
        "import numpy as np\n",
        "import matplotlib.pyplot as plt\n",
        "\n",
        "# Discrete uniform distribution: outcomes 1 to 6\n",
        "values = np.arange(1, 7)\n",
        "probability = 1 / len(values)  # Equal probability\n",
        "cdf = np.cumsum([probability] * len(values))  # CDF values\n",
        "\n",
        "# Plotting the CDF\n",
        "plt.step(values, cdf, where='post', label='CDF', color='blue')\n",
        "plt.scatter(values, cdf, color='red\n"
      ],
      "metadata": {
        "id": "eKMJCN1MFHFo"
      },
      "execution_count": null,
      "outputs": []
    },
    {
      "cell_type": "markdown",
      "source": [
        "7. Generate a continuous uniform distribution using NumPy and visualize it?"
      ],
      "metadata": {
        "id": "D_xX1AkMFI8T"
      }
    },
    {
      "cell_type": "code",
      "source": [
        "import numpy as np\n",
        "import matplotlib.pyplot as plt\n",
        "\n",
        "# Parameters for continuous uniform distribution\n",
        "low = 0     # minimum value\n",
        "high = 10   # maximum value\n",
        "size = 1000 # number of random samples\n",
        "\n",
        "# Generate data\n",
        "data = np.random.uniform(low, high, size)\n",
        "\n",
        "# Plot the histogram\n",
        "plt.hist(data, bins=30, density=True, color='skyblue', edgecolor='black', alpha=0.7)\n",
        "plt.title('Continuous Uniform Distribution')\n",
        "plt.xlabel('Value')\n",
        "plt.ylabel('Density')\n",
        "plt.grid(True)\n",
        "plt.show()\n"
      ],
      "metadata": {
        "id": "LGBMNnymGOaT"
      },
      "execution_count": null,
      "outputs": []
    },
    {
      "cell_type": "markdown",
      "source": [
        "8. Simulate data from a normal distribution and plot its histogram?"
      ],
      "metadata": {
        "id": "CHFLYCqrGQzR"
      }
    },
    {
      "cell_type": "code",
      "source": [
        "import numpy as np\n",
        "import matplotlib.pyplot as plt\n",
        "\n",
        "# Parameters for the normal distribution\n",
        "mean = 0       # mean (μ)\n",
        "std_dev = 1    # standard deviation (σ)\n",
        "size = 1000    # number of samples\n",
        "\n",
        "# Simulate data\n",
        "data = np.random.normal(mean, std_dev, size)\n",
        "\n",
        "# Plot histogram\n",
        "plt.hist(data, bins=30, density=True, color='lightgreen', edgecolor='black', alpha=0.7)\n",
        "plt.title('Normal Distribution (μ=0, σ=1)')\n",
        "plt.xlabel('Value')\n",
        "plt.ylabel('Density')\n",
        "plt.grid(True)\n",
        "plt.show()\n"
      ],
      "metadata": {
        "id": "rMN3ZBXvGVKo"
      },
      "execution_count": null,
      "outputs": []
    },
    {
      "cell_type": "markdown",
      "source": [
        "9. Write a Python function to calculate Z-scores from a dataset and plot them?"
      ],
      "metadata": {
        "id": "9yDbXSGbGbQO"
      }
    },
    {
      "cell_type": "markdown",
      "source": [
        "import numpy as np\n",
        "import matplotlib.pyplot as plt\n",
        "\n",
        "def calculate_and_plot_z_scores(data):\n",
        "\n",
        "\n",
        "# Example usage\n",
        "sample_data = [10, 12, 14, 15, 13, 11, 17, 19, 20]\n",
        "z_scores = calculate_and_plot_z_scores(sample_data)\n",
        "print(\"Z-scores:\", z_scores)\n"
      ],
      "metadata": {
        "id": "utB32ntSGhAq"
      }
    },
    {
      "cell_type": "markdown",
      "source": [
        "10.  Implement the Central Limit Theorem (CLT) using Python for a non-normal distribution."
      ],
      "metadata": {
        "id": "6Yirz3CtGqzG"
      }
    },
    {
      "cell_type": "code",
      "source": [
        "import numpy as np\n",
        "import matplotlib.pyplot as plt\n",
        "\n",
        "# Parameters\n",
        "population_size = 100000\n",
        "sample_size = 30\n",
        "num_samples = 1000\n",
        "\n",
        "# Step 1: Create a non-normal (exponential) population\n",
        "population = np.random.exponential(scale=2.0, size=population_size)\n",
        "\n",
        "# Step 2: Take multiple samples and compute their means\n",
        "sample_means = []\n",
        "for _ in range(num_samples):\n",
        "    sample = np.random.choice(population, sample_size)\n",
        "    sample_means.append(np.mean(sample))\n",
        "\n",
        "# Step 3: Plot the histogram of sample means\n",
        "plt.hist(sample_means, bins=30, density=True, color='orange', edgecolor='black', alpha=0.7)\n",
        "plt.title(f'CLT Demonstration: Distribution of Sample Means\\n(Exponential → Normal)')\n",
        "plt.xlabel('Sample Mean')\n",
        "plt.ylabel('Density')\n",
        "plt.grid(True)\n",
        "plt.show()\n"
      ],
      "metadata": {
        "id": "VVgMexLsHa0F"
      },
      "execution_count": null,
      "outputs": []
    },
    {
      "cell_type": "markdown",
      "source": [
        "15. Simulate multiple samples from a normal distribution and verify the Central Limit Theorem"
      ],
      "metadata": {
        "id": "vzkTQ8pJHdMH"
      }
    },
    {
      "cell_type": "markdown",
      "source": [
        "import numpy as np\n",
        "import matplotlib.pyplot as plt\n",
        "\n",
        "# Parameters\n",
        "population_mean = 50\n",
        "population_std = 15\n",
        "population_size = 100000\n",
        "sample_size = 30\n",
        "num_samples = 1000\n",
        "\n",
        "# Step 1: Generate a normal population\n",
        "population = np.random.normal(loc=population_mean, scale=population_std, size=population_size)\n",
        "\n",
        "# Step 2: Take multiple random samples and compute their means\n",
        "sample_means = [np.mean(np.random.choice(population, sample_size)) for _ in range(num_samples)]\n",
        "\n",
        "# Step 3: Plot histogram of sample means\n",
        "plt.hist(sample_means, bins=30, density=True, color='skyblue', edgecolor='black', alpha=0.7)\n",
        "plt.axvline(np.mean(sample_means), color='red', linestyle='dashed', linewidth=2, label='Mean of Sample_\n"
      ],
      "metadata": {
        "id": "e3bukBf6HoiQ"
      }
    },
    {
      "cell_type": "markdown",
      "source": [
        "16. import numpy as np\n",
        "import matplotlib.pyplot as plt\n",
        "from scipy.stats import norm\n",
        "\n",
        "def plot_standard_normal():\n",
        "\n",
        "# Call the function to plot\n",
        "plot_standard_normal()\n"
      ],
      "metadata": {
        "id": "QtWjkxN2HroM"
      }
    },
    {
      "cell_type": "markdown",
      "source": [
        "17. Generate random variables and calculate their corresponding probabilities using the binomial distribution"
      ],
      "metadata": {
        "id": "YqOCqNTtH1j8"
      }
    },
    {
      "cell_type": "code",
      "source": [
        "import numpy as np\n",
        "import matplotlib.pyplot as plt\n",
        "from scipy.stats import binom\n",
        "\n",
        "# Parameters\n",
        "n = 10      # Number of trials\n",
        "p = 0.5     # Probability of success\n",
        "size = 1000 # Number of random samples\n",
        "\n",
        "\n",
        "random_variables = np.random.binomial(n, p, size)\n",
        "x = np.arange(0, n+1)  # Possible outcomes (0 to 10)\n",
        "pmf = binom.pmf(x, n, p)  # Calculate PMF\n",
        "\n",
        "plt.bar(x, pmf, color='skyblue', edgecolor='black', alpha=0.7, label='PMF')\n",
        "plt.title(f'Binomial Distribution (n={n}, p={p})')\n",
        "plt.xlabel('Number of Successes')\n",
        "plt.ylabel('Probability')\n",
        "plt.xticks(range(n+1))\n",
        "plt.legend()\n",
        "plt.grid(True)\n",
        "plt.show()\n",
        "\n",
        "# Print probabilities\n",
        "for i in range(n+1):\n",
        "    print(f'P(X={i}) = {pmf[i]:.4f}')\n"
      ],
      "metadata": {
        "id": "INhmucltH_Sp"
      },
      "execution_count": null,
      "outputs": []
    },
    {
      "cell_type": "markdown",
      "source": [
        "18. Write a Python program to calculate the Z-score for a given data point and compare it to a standard normal\n",
        "distribution5"
      ],
      "metadata": {
        "id": "oMFIM46hIO3R"
      }
    },
    {
      "cell_type": "code",
      "source": [
        "import numpy as np\n",
        "import matplotlib.pyplot as plt\n",
        "from scipy.stats import norm\n",
        "\n",
        "def calculate_z_score(data_point, mean, std_dev):\n",
        "    \"\"\"\n",
        "    Calculate the Z-score for a given data point.\n",
        "\n",
        "    Parameters:\n",
        "    data_point (float): The value for which the Z-score is calculated.\n",
        "    mean (float): Mean of the dataset.\n",
        "    std_dev (float): Standard deviation of the dataset.\n",
        "\n",
        "    Returns:\n",
        "    float: The Z-score.\n",
        "    \"\"\"\n",
        "    return (data_point - mean) / std_dev\n",
        "\n",
        "def plot_standard_normal_with_z(data_point, z_score):\n",
        "    \"\"\"\n",
        "    Plot the standard normal distribution and highlight the given Z-score.\n",
        "\n",
        "    Parameters:\n",
        "    data_point (float): The value in the dataset.\n",
        "    z_score (float): Corresponding Z-score.\n",
        "    \"\"\"\n",
        "    # Generate x values for the standard normal curve\n",
        "    x = np.linspace(-4, 4, 1000)\n",
        "    y = norm.pdf(x, loc=0, scale=1)  # Standard normal PDF\n",
        "\n",
        "    # Plot the standard normal curve\n",
        "    plt.plot(x, y, color='blue', label='Standard Normal Distribution')\n",
        "    plt.axvline(z_score, color='red', linestyle='dashed', linewidth=2, label=f'Z-score = {z_score:.2f}')\n",
        "\n",
        "    # Labels and title\n",
        "    plt.title('Standard Normal Distribution with Z-score')\n",
        "    plt.xlabel('Z-score')\n",
        "    plt.ylabel('Probability Density')\n",
        "    plt.legend()\n",
        "    plt.grid(True)\n",
        "\n",
        "    # Show plot\n",
        "    plt.show()\n",
        "\n",
        "# Example usage\n",
        "data_point = 75   # Example data point\n",
        "mean = 60         # Example dataset mean\n",
        "std_dev = 10      # Example dataset standard deviation\n",
        "\n",
        "# Calculate Z-score\n",
        "z_score = calculate_z_score(data_point, mean, std_dev)\n",
        "print(f'Z-score for data point {data_point}: {z_score:.2f}')\n",
        "\n",
        "# Plot the standard normal distribution with Z-score\n",
        "plot_standard_normal_with_z(data_point, z_score)\n"
      ],
      "metadata": {
        "id": "Zrvjd92-I0pV"
      },
      "execution_count": null,
      "outputs": []
    },
    {
      "cell_type": "markdown",
      "source": [
        "19.  Implement hypothesis testing using Z-statistics for a sample dataset?"
      ],
      "metadata": {
        "id": "8Mq_3AaIJBRg"
      }
    },
    {
      "cell_type": "code",
      "source": [
        "import numpy as np\n",
        "import scipy.stats as stats\n",
        "\n",
        "def z_test(sample, population_mean, population_std, alpha=0.05):\n",
        "    \"\"\"\n",
        "    Perform a one-sample Z-test for hypothesis testing.\n",
        "\n",
        "    Parameters:\n",
        "    sample (list or array): Sample dataset\n",
        "    population_mean (float): Known population mean\n",
        "    population_std (float): Known population standard deviation\n",
        "    alpha (float): Significance level (default: 0.05)\n",
        "\n",
        "    Returns:\n",
        "    None (prints results)\n",
        "    \"\"\"\n",
        "    sample_mean = np.mean(sample)\n",
        "    sample_size = len(sample)\n",
        "\n",
        "    # Compute Z-score\n",
        "    z_score = (sample_mean - population_mean) / (population_std / np.sqrt(sample_size))\n",
        "\n",
        "    # Critical value for two-tailed test at given alpha\n",
        "    z_critical = stats.norm.ppf(1 - alpha/2)\n",
        "\n",
        "    # Print results\n",
        "    print(f\"Sample Mean: {sample_mean:.2f}\")\n",
        "    print(f\"Z-score: {z_score:.2f}\")\n",
        "    print(f\"Z-critical (for alpha={alpha}): ±{z_critical:.2f}\")\n",
        "\n",
        "    # Hypothesis Decision\n",
        "    if abs(z_score) > z_critical:\n",
        "        print(\"Reject the null hypothesis (H0) → Significant difference.\")\n",
        "    else:\n",
        "        print(\"Fail to reject the null hypothesis (H0) → No significant difference.\")\n",
        "\n",
        "# Example usage\n",
        "sample_data = [52, 55, 53, 58, 57, 56, 59, 60, 54, 52]  # Sample dataset\n",
        "population_mean = 50\n",
        "population_std = 5  # Known population standard deviation\n",
        "alpha = 0.05  # 5% significance level\n",
        "\n",
        "# Perform Z-test\n",
        "z_test(sample_data, population_mean, population_std, alpha)\n"
      ],
      "metadata": {
        "id": "6sm5lUnWJOOa"
      },
      "execution_count": null,
      "outputs": []
    },
    {
      "cell_type": "code",
      "source": [
        "20. Create a confidence interval for a dataset using Python and interpret the result?"
      ],
      "metadata": {
        "id": "NSKoLeuMJP1b"
      },
      "execution_count": null,
      "outputs": []
    },
    {
      "cell_type": "code",
      "source": [
        "import numpy as np\n",
        "import scipy.stats as stats\n",
        "\n",
        "def confidence_interval(data, confidence=0.95):\n",
        "    \"\"\"\n",
        "    Compute the confidence interval for a dataset.\n",
        "\n",
        "    Parameters:\n",
        "    data (list or array): Sample dataset\n",
        "    confidence (float): Confidence level (default: 0.95)\n",
        "\n",
        "    Returns:\n",
        "    tuple: (Lower bound, Upper bound)\n",
        "    \"\"\"\n",
        "    sample_mean = np.mean(data)\n",
        "    sample_std = np.std(data, ddof=1)  # Use sample standard deviation (ddof=1)\n",
        "    n = len(data)\n",
        "\n",
        "    # Get the Z-score for the given confidence level\n",
        "    z_critical = stats.norm.ppf(1 - (1 - confidence) / 2)\n",
        "\n",
        "    # Compute\n"
      ],
      "metadata": {
        "id": "RsjKDsNNJZh4"
      },
      "execution_count": null,
      "outputs": []
    },
    {
      "cell_type": "markdown",
      "source": [
        "21.  Generate data from a normal distribution, then calculate and interpret the confidence interval for its mean5"
      ],
      "metadata": {
        "id": "6tQQNSj_JaXx"
      }
    },
    {
      "cell_type": "code",
      "source": [
        "import numpy as np\n",
        "import scipy.stats as stats\n",
        "import matplotlib.pyplot as plt\n",
        "\n",
        "def generate_normal_data(mean=50, std_dev=10, size=100):\n",
        "    \"\"\"\n",
        "    Generate random data from a normal distribution.\n",
        "\n",
        "    Parameters:\n",
        "    mean (float): Mean of the normal distribution.\n",
        "    std_dev (float): Standard deviation.\n",
        "    size (int): Number of data points.\n",
        "\n",
        "    Returns:\n",
        "    array: Generated dataset.\n",
        "    \"\"\"\n",
        "    return np.random.normal(mean, std_dev, size)\n",
        "\n",
        "def confidence_interval(data, confidence=0.95):\n",
        "    \"\"\"\n",
        "    Compute the confidence interval for a dataset.\n",
        "\n",
        "    Parameters:\n",
        "    data (array): Sample dataset.\n",
        "    confidence (float): Confidence level (default: 0.95).\n",
        "\n",
        "    Returns:\n",
        "    tuple: (Lower bound, Upper bound)\n",
        "    \"\"\"\n",
        "    sample_mean = np.mean(data)\n",
        "    sample_std = np.std(data, ddof=1)  # Sample standard deviation\n",
        "    n = len(data)\n",
        "\n",
        "    # Z-score for the given confidence level\n",
        "    z_critical = stats.norm.ppf(1 - (1 - confidence) / 2)\n",
        "\n",
        "    # Compute margin of error (ME)\n",
        "    margin_of_error = z_critical * (sample_std / np.sqrt(n))\n",
        "\n",
        "    # Compute confidence interval\n",
        "    lower_bound = sample_mean - margin_of_error\n",
        "    upper_bound = sample_mean + margin_of_error\n",
        "\n",
        "    print(f\"Sample Mean: {sample_mean:.2f}\")\n",
        "    print(f\"Confidence Interval ({confidence*100:.0f}%): ({lower_bound:.2f}, {upper_bound:.2f})\")\n",
        "\n",
        "    return (lower_bound, upper_bound)\n",
        "\n",
        "# Generate normal data\n",
        "data = generate_normal_data(mean=50, std_dev=10, size=100)\n",
        "\n",
        "# Compute the 95% confidence interval\n",
        "ci = confidence_interval(data, confidence=0.95)\n",
        "\n",
        "# Plot the distribution\n",
        "plt.hist(data, bins=20, color='skyblue', edgecolor='black', alpha=0.7, density=True)\n",
        "plt.axvline(ci[0], color='red', linestyle='dashed', label=f'Lower Bound ({ci[0]:.2f})')\n",
        "plt.axvline(ci[1], color='green', linestyle='dashed', label=f'Upper Bound ({ci[1]:.2f})')\n",
        "plt.axvline(np.mean(data), color='blue', linestyle='solid', label=f'Mean ({np.mean(data):.2f})')\n",
        "plt.title('Histogram of Generated Normal Data')\n",
        "plt.xlabel('Value')\n",
        "plt.ylabel('Density')\n",
        "plt.legend()\n",
        "plt.grid(True)\n",
        "plt.show()\n",
        "\n"
      ],
      "metadata": {
        "id": "DCPzAmx1JhbX"
      },
      "execution_count": null,
      "outputs": []
    },
    {
      "cell_type": "markdown",
      "source": [
        "22. Write a Python script to calculate and visualize the probability density function (PDF) of a normal distribution"
      ],
      "metadata": {
        "id": "rCaGw-iFJl6D"
      }
    },
    {
      "cell_type": "code",
      "source": [
        "import numpy as np\n",
        "import scipy.stats as stats\n",
        "import matplotlib.pyplot as plt\n",
        "\n",
        "def plot_normal_pdf(mean=0, std_dev=1, num_points=1000):\n",
        "    \"\"\"\n",
        "    Calculate and plot the probability density function (PDF) of a normal distribution.\n",
        "\n",
        "    Parameters:\n",
        "    mean (float): Mean of the normal distribution.\n",
        "    std_dev (float): Standard deviation.\n",
        "    num_points (int): Number of points to generate.\n",
        "    \"\"\"\n",
        "    # Generate x values\n",
        "    x = np.linspace(mean - 4*std_dev, mean + 4*std_dev, num_points)\n",
        "\n",
        "    # Compute PDF values\n",
        "    pdf_values = stats.norm.pdf(x, mean, std_dev)\n",
        "\n",
        "    # Plot PDF\n",
        "    plt.plot(x, pdf_values, color='blue', linewidth=2, label=f'Normal PDF (μ={mean}, σ={std_dev})')\n",
        "    plt.fill_between(x, pdf_values, alpha=0.2, color='blue')\n",
        "    plt.axvline(mean, color='red', linestyle='dashed', label=f'Mean (μ={mean})')\n",
        "    plt.title('Probability Density Function (PDF) of Normal Distribution')\n",
        "    plt.xlabel('x')\n",
        "    plt.ylabel('Density')\n",
        "    plt.legend()\n",
        "    plt.grid(True)\n",
        "    plt.show()\n",
        "\n",
        "# Example: Plot normal distribution PDF with mean=0, std_dev=1\n",
        "plot_normal_pdf(mean=0, std_dev=1)\n"
      ],
      "metadata": {
        "id": "XGV5wNl3J1Ni"
      },
      "execution_count": null,
      "outputs": []
    },
    {
      "cell_type": "markdown",
      "source": [
        "23.  Use Python to calculate and interpret the cumulative distribution function (CDF) of a Poisson distribution."
      ],
      "metadata": {
        "id": "5j2hp4pVJ2ca"
      }
    },
    {
      "cell_type": "code",
      "source": [
        "import numpy as np\n",
        "import scipy.stats as stats\n",
        "import matplotlib.pyplot as plt\n",
        "\n",
        "def plot_poisson_cdf(lam=5, max_x=20):\n",
        "    \"\"\"\n",
        "    Calculate and plot the Cumulative Distribution Function (CDF) of a Poisson distribution.\n",
        "\n",
        "    Parameters:\n",
        "    lam (int): The expected number of occurrences (λ).\n",
        "    max_x (int): Maximum x value for the plot.\n",
        "    \"\"\"\n",
        "    # Generate x values (integer values)\n",
        "    x = np.arange(0, max_x + 1)\n",
        "\n",
        "    # Compute CDF values\n",
        "    cdf_values = stats.poisson.cdf(x, mu=lam)\n",
        "\n",
        "    # Plot CDF\n",
        "    plt.step(x, cdf_values, color='blue', linewidth=2, where='post', label=f'Poisson CDF (λ={lam})')\n",
        "    plt.scatter(x, cdf_values, color='red', zorder=3)  # Mark individual points\n",
        "    plt.axhline(y=1, color='black', linestyle='dashed', alpha=0.5)\n",
        "    plt.axhline(y=0, color='black', linestyle='dashed', alpha=0.5)\n",
        "    plt.axvline(x=lam, color='green', linestyle='dashed', label=f'Mean (λ={lam})')\n",
        "    plt.title('Cumulative Distribution Function (CDF) of Poisson Distribution')\n",
        "    plt.xlabel('x (Number of Events)')\n",
        "    plt.ylabel('P(X ≤ x)')\n",
        "    plt.legend()\n",
        "    plt.grid(True)\n",
        "    plt.show()\n",
        "\n",
        "# Example: Compute and plot the CDF for a Poisson distribution with λ = 5\n",
        "plot_poisson_cdf(lam=5, max_x=20)\n"
      ],
      "metadata": {
        "id": "oD3Pt_7YKDEj"
      },
      "execution_count": null,
      "outputs": []
    },
    {
      "cell_type": "markdown",
      "source": [
        "24.  Simulate a random variable using a continuous uniform distribution and calculate its expected value?"
      ],
      "metadata": {
        "id": "jlYzJO2EKD7G"
      }
    },
    {
      "cell_type": "code",
      "source": [
        "import numpy as np\n",
        "import matplotlib.pyplot as plt\n",
        "\n",
        "def simulate_uniform_distribution(a=0, b=10, size=1000):\n",
        "    \"\"\"\n",
        "    Simulate a random variable using a continuous uniform distribution and calculate its expected value.\n",
        "\n",
        "    Parameters:\n",
        "    a (float): Lower bound of the uniform distribution.\n",
        "    b (float): Upper bound.\n",
        "    size (int): Number of random samples.\n",
        "\n",
        "    Returns:\n",
        "    float: Expected value of the distribution.\n",
        "    \"\"\"\n",
        "    # Generate random samples\n",
        "    data = np.random.uniform(a, b, size)\n",
        "\n",
        "    # Calculate expected value\n",
        "    expected_value = (a + b) / 2\n",
        "\n",
        "    # Plot histogram\n",
        "    plt.hist(data, bins=20, color='skyblue', edgecolor='black', alpha=0.7, density=True)\n",
        "    plt.axvline(expected_value, color='red', linestyle='dashed', label=f'Expected Value (E[X] = {expected_value:.2f})')\n",
        "    plt.title(f'Continuous Uniform Distribution U({a}, {b})')\n",
        "    plt.xlabel('x')\n",
        "    plt.ylabel('Density')\n",
        "    plt.legend()\n",
        "    plt.grid(True)\n",
        "    plt.show()\n",
        "\n",
        "    print(f\"Expected Value (E[X]): {expected_value:.2f}\")\n",
        "\n",
        "    return expected_value\n",
        "\n",
        "# Example: Simulate a uniform distribution U(2, 8)\n",
        "simulate_uniform_distribution(a=2, b=8, size=1000)\n"
      ],
      "metadata": {
        "id": "JgxdsCjDKN2a"
      },
      "execution_count": null,
      "outputs": []
    },
    {
      "cell_type": "markdown",
      "source": [
        "25. Write a Python program to compare the standard deviations of two datasets and visualize the difference"
      ],
      "metadata": {
        "id": "O-UvTS-HKOxi"
      }
    },
    {
      "cell_type": "code",
      "source": [
        "import numpy as np\n",
        "import matplotlib.pyplot as plt\n",
        "\n",
        "def compare_standard_deviation(size=1000):\n",
        "    \"\"\"\n",
        "    Generate two datasets with different standard deviations, compare them, and visualize the difference.\n",
        "\n",
        "    Parameters:\n",
        "    size (int): Number of samples in each dataset.\n",
        "    \"\"\"\n",
        "    # Generate two normal datasets with different standard deviations\n",
        "    data1 = np.random.normal(loc=50, scale=5, size=size)   # Mean = 50, Std Dev = 5\n",
        "    data2 = np.random.normal(loc=50, scale=15, size=size)  # Mean = 50, Std Dev = 15\n",
        "\n",
        "    # Compute standard deviations\n",
        "    std_dev1 = np.std(data1, ddof=1)  # Sample standard deviation\n",
        "    std_dev2 = np.std(data2, ddof=1)\n",
        "\n",
        "    # Plot histograms\n",
        "    plt.hist(data1, bins=30, color='blue', alpha=0.6, label=f'Small Std Dev (σ={std_dev1:.2f})', density=True)\n",
        "    plt.hist(data2, bins=30, color='red', alpha=0.6, label=f'Large Std Dev (σ={std_dev2:.2f})', density=True)\n",
        "\n",
        "    # Labels and title\n",
        "    plt.axvline(np.mean(data1), color='blue', linestyle='dashed', linewidth=2, label='Mean (Small σ)')\n",
        "    plt.axvline(np.mean(data2), color='red', linestyle='dashed', linewidth=2, label='Mean (Large σ)')\n",
        "    plt.title('Comparison of Standard Deviations')\n",
        "    plt.xlabel('Value')\n",
        "    plt.ylabel('Density')\n",
        "    plt.legend()\n",
        "    plt.grid(True)\n",
        "    plt.show()\n",
        "\n",
        "    print(f\"Dataset 1 Standard Deviation: {std_dev1:.2f}\")\n",
        "    print(f\"Dataset 2 Standard Deviation: {std_dev2:.2f}\")\n",
        "\n",
        "# Run the comparison\n",
        "compare_standard_deviation(size=1000)\n"
      ],
      "metadata": {
        "id": "nQBKOsAmKa80"
      },
      "execution_count": null,
      "outputs": []
    },
    {
      "cell_type": "markdown",
      "source": [
        "26. Calculate the range and interquartile range (IQR) of a dataset generated from a normal distribution?"
      ],
      "metadata": {
        "id": "ukGF_1euKb9A"
      }
    },
    {
      "cell_type": "code",
      "source": [
        "import numpy as np\n",
        "import matplotlib.pyplot as plt\n",
        "import seaborn as sns\n",
        "\n",
        "def calculate_range_and_iqr(mean=50, std_dev=10, size=1000):\n",
        "    \"\"\"\n",
        "    Generate a normal distribution dataset, calculate Range and IQR, and visualize the distribution.\n",
        "\n",
        "    Parameters:\n",
        "    mean (float): Mean of the normal distribution.\n",
        "    std_dev (float): Standard deviation.\n",
        "    size (int): Number of data points.\n",
        "    \"\"\"\n",
        "    # Generate random data from a normal distribution\n",
        "    data = np.random.normal(loc=mean, scale=std_dev, size=size)\n",
        "\n",
        "    # Calculate Range\n",
        "    data_range = np.max(data) - np.min(data)\n",
        "\n",
        "    # Calculate Q1 (25th percentile) and Q3 (75th percentile)\n",
        "    Q1 = np.percentile(data, 25)\n",
        "    Q3 = np.percentile(data, 75)\n",
        "\n",
        "    # Calculate Interquartile Range (IQR)\n",
        "    IQR = Q3 - Q1\n",
        "\n",
        "    # Print results\n",
        "    print(f\"Range: {data_range:.2f}\")\n",
        "    print(f\"Q1 (25th percentile): {Q1:.2f}\")\n",
        "    print(f\"Q3 (75th percentile): {Q3:.2f}\")\n",
        "    print(f\"Interquartile Range (IQR): {IQR:.2f}\")\n",
        "\n",
        "    # Visualization using Seaborn\n",
        "    sns.boxplot(data, color=\"skyblue\")\n",
        "    plt.axhline(Q1, color='red', linestyle='dashed', label=f'Q1 (25th) = {Q1:.2f}')\n",
        "    plt.axhline(Q3, color='blue', linestyle='dashed', label=f'Q3 (75th) = {Q3:.2f}')\n",
        "    plt.axhline(np.median(data), color='green', linestyle='dashed', label=f'Median = {np.median(data):.2f}')\n",
        "    plt.title('Box Plot of Normal Distribution')\n",
        "    plt.legend()\n",
        "    plt.show()\n",
        "\n",
        "# Example: Generate and analyze a normal distribution dataset\n",
        "calculate_range_and_iqr(mean=50, std_dev=10, size=1000)\n"
      ],
      "metadata": {
        "id": "WOpMkygDK0fe"
      },
      "execution_count": null,
      "outputs": []
    },
    {
      "cell_type": "markdown",
      "source": [
        "27. Implement Z-score normalization on a dataset and visualize its transformation"
      ],
      "metadata": {
        "id": "k7ryw69jK1Sb"
      }
    },
    {
      "cell_type": "code",
      "source": [
        "import numpy as np\n",
        "import matplotlib.pyplot as plt\n",
        "import seaborn as sns\n",
        "\n",
        "def z_score_normalization(mean=50, std_dev=15, size=1000):\n",
        "    \"\"\"\n",
        "    Generate a dataset, apply Z-score normalization, and visualize the transformation.\n",
        "\n",
        "    Parameters:\n",
        "    mean (float): Mean of the original dataset.\n",
        "    std_dev (float): Standard deviation of the original dataset.\n",
        "    size (int): Number of data points.\n",
        "    \"\"\"\n",
        "    # Generate random data from a normal distribution\n",
        "    data = np.random.normal(loc=mean, scale=std_dev, size=size)\n",
        "\n",
        "    # Compute mean and standard deviation\n",
        "    mu = np.mean(data)\n",
        "    sigma = np.std(data)\n",
        "\n",
        "    # Apply Z-score normalization\n",
        "    normalized_data = (data - mu) / sigma\n",
        "\n",
        "    # Plot original and normalized distributions\n",
        "    plt.figure(figsize=(12, 5))\n",
        "\n",
        "    # Original Data Histogram\n",
        "    plt.subplot(1, 2, 1)\n",
        "    sns.histplot(data, bins=30, color=\"blue\", kde=True)\n",
        "    plt.axvline(mu, color='red', linestyle='dashed', label=f'Mean = {mu:.2f}')\n",
        "    plt.axvline(mu + sigma, color='green', linestyle='dashed', label=f'+1σ = {mu + sigma:.2f}')\n",
        "    plt.axvline(mu - sigma, color='green', linestyle='dashed', label=f'-1σ = {mu - sigma:.2f}')\n",
        "    plt.title('Original Data Distribution')\n",
        "    plt.xlabel('Value')\n",
        "    plt.ylabel('Frequency')\n",
        "    plt.legend()\n",
        "\n",
        "    # Normalized Data Histogram\n",
        "    plt.subplot(1, 2, 2)\n",
        "    sns.histplot(normalized_data, bins=30, color=\"purple\", kde=True)\n",
        "    plt.axvline(0, color='red', linestyle='dashed', label='Mean = 0')\n",
        "    plt.axvline(1, color='green', linestyle='dashed', label='+1σ = 1')\n",
        "    plt.axvline(-1, color='green', linestyle='dashed', label='-1σ = -1')\n",
        "    plt.title('Z-Score Normalized Distribution')\n",
        "    plt.xlabel('Z-Score')\n",
        "    plt.ylabel('Frequency')\n",
        "    plt.legend()\n",
        "\n",
        "    plt.tight_layout()\n",
        "    plt.show()\n",
        "\n",
        "    print(f\"Original Mean: {mu:.2f}, Original Std Dev: {sigma:.2f}\")\n",
        "    print(f\"Normalized Mean: {np.mean(normalized_data):.2f}, Normalized Std Dev: {np.std(normalized_data):.2f}\")\n",
        "\n",
        "# Example: Apply Z-score normalization on a dataset\n",
        "z_score_normalization(mean=50, std_dev=15, size=1000)\n"
      ],
      "metadata": {
        "id": "WwYIg_8FK_4-"
      },
      "execution_count": null,
      "outputs": []
    },
    {
      "cell_type": "markdown",
      "source": [
        "28. Write a Python function to calculate the skewness and kurtosis of a dataset generated from a normal\n",
        "distribution."
      ],
      "metadata": {
        "id": "aFyBHTcBLA2U"
      }
    },
    {
      "cell_type": "code",
      "source": [
        "import numpy as np\n",
        "import scipy.stats as stats\n",
        "import matplotlib.pyplot as plt\n",
        "import seaborn as sns\n",
        "\n",
        "def analyze_skewness_kurtosis(mean=50, std_dev=10, size=1000):\n",
        "    \"\"\"\n",
        "    Generate a normal distribution dataset, calculate skewness and kurtosis, and visualize the distribution.\n",
        "\n",
        "    Parameters:\n",
        "    mean (float): Mean of the normal distribution.\n",
        "    std_dev (float): Standard deviation.\n",
        "    size (int): Number of data points.\n",
        "    \"\"\"\n",
        "    # Generate random data from a normal distribution\n",
        "    data = np.random.normal(loc=mean, scale=std_dev, size=size)\n",
        "\n",
        "    # Calculate skewness and kurtosis\n",
        "    skewness = stats.skew(data)\n",
        "    kurtosis = stats.kurtosis(data, fisher=True)  # Fisher=True gives excess kurtosis (normal = 0)\n",
        "\n",
        "    # Visualization\n",
        "    sns.histplot(data, bins=30, kde=True, color=\"skyblue\")\n",
        "    plt.axvline(np.mean(data), color='red', linestyle='dashed', label=f'Mean = {np.mean(data):.2f}')\n",
        "    plt.title('Histogram of Normal Distribution')\n",
        "    plt.xlabel('Value')\n",
        "    plt.ylabel('Frequency')\n",
        "    plt.legend()\n",
        "    plt.show()\n",
        "\n",
        "    # Print results\n",
        "    print(f\"Skewness: {skewness:.4f}\")\n",
        "    print(f\"Kurtosis (Excess Kurtosis): {kurtosis:.4f}\")\n",
        "\n",
        "# Example: Analyze skewness and kurtosis\n",
        "analyze_skewness_kurtosis(mean=50, std_dev=10, size=1000)\n"
      ],
      "metadata": {
        "id": "WvMcYs9xLJNi"
      },
      "execution_count": null,
      "outputs": []
    }
  ]
}